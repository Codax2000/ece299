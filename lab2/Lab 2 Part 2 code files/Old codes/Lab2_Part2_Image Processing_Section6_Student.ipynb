{
 "cells": [
  {
   "cell_type": "code",
   "execution_count": null,
   "id": "97f7218e",
   "metadata": {},
   "outputs": [],
   "source": [
    "import matplotlib.pyplot as plt\n",
    "import numpy as np"
   ]
  },
  {
   "cell_type": "markdown",
   "id": "5b90b2ec",
   "metadata": {},
   "source": [
    "# Section 1: Pixels and Matrices"
   ]
  },
  {
   "cell_type": "markdown",
   "id": "b6a44364",
   "metadata": {},
   "source": [
    "The following examples are meant to get you accustomed to and familiar with working with\n",
    "images and matrices in python."
   ]
  },
  {
   "cell_type": "markdown",
   "id": "1f5a1b33",
   "metadata": {},
   "source": [
    "To better understand the way pixels work, we can use python to develop an 8-bit greyscale\n",
    "image. To do this we can define a matrix filled with numeric values within the range of 0 and 255.\n",
    "0 corresponds to black and 255 corresponds to white and the pixel definition varies linearly\n",
    "between white and black between 0 and 255, hence the image being greyscale."
   ]
  },
  {
   "cell_type": "code",
   "execution_count": null,
   "id": "bb299aad",
   "metadata": {},
   "outputs": [],
   "source": [
    "# 2 dimentional (3 x 3) matrix A\n",
    "\n",
    "A = np.array([[0, 130, 255],\n",
    "              [0, 130, 255],\n",
    "              [0, 130, 255]])"
   ]
  },
  {
   "cell_type": "markdown",
   "id": "16145b05",
   "metadata": {},
   "source": [
    "With matrix A defined in python, we can now use the plt.imshow() function to\n",
    "display / plot the matrix as an image."
   ]
  },
  {
   "cell_type": "code",
   "execution_count": null,
   "id": "8553b225",
   "metadata": {},
   "outputs": [],
   "source": [
    "plt.imshow(A, vmin=0,vmax=255,cmap='gray')"
   ]
  },
  {
   "cell_type": "markdown",
   "id": "ccfe8b12",
   "metadata": {},
   "source": [
    "### Exercise 1a: \n",
    "After understanding the development of a 2-dimensional matrix and functions used\n",
    "to display the defined image, develop a 6x6 checkerboard image"
   ]
  },
  {
   "cell_type": "code",
   "execution_count": null,
   "id": "b03240ce",
   "metadata": {},
   "outputs": [],
   "source": [
    "odd_line = [255, 0, 255, 0, 255, 0]\n",
    "even_line = [0, 255, 0, 255, 0, 255]\n",
    "matrix_1a = [odd_line, even_line, odd_line, even_line, odd_line, even_line]\n",
    "\n",
    "plt.imshow(matrix_1a, vmin = 0, vmax = 255, cmap='gray')"
   ]
  },
  {
   "cell_type": "markdown",
   "id": "b3c92a1f",
   "metadata": {},
   "source": [
    "More definition can be added to your image by defining a matrix with more rows and columns.\n",
    "Below is a 12x11 matrix. The code illustrates one way to develop matrix A and, then, an equivalent\n",
    "but easier way."
   ]
  },
  {
   "cell_type": "code",
   "execution_count": null,
   "id": "6e812f2b",
   "metadata": {},
   "outputs": [],
   "source": [
    "# Below is a 12 x 11 matrix.\n",
    "\n",
    "A = np.array([[  1,   1,   1,   1,   1,   1,   1,   1,   1,   1,   1],\n",
    "              [  1,   1,   1,   1,   1,   1,   1,   1,   1,   1,   1],\n",
    "              [  1,   1,   1,   1,   1,   1,   1,   1,   1,   1,   1],\n",
    "              [  1,   1,   1,   1,   1,   1,   1,   1,   1,   1,   1],\n",
    "              [  0,  25,  50,  75, 100, 125, 150, 175, 200, 225, 250],\n",
    "              [  0,  25,  50,  75, 100, 125, 150, 175, 200, 225, 250],\n",
    "              [  0,  25,  50,  75, 100, 125, 150, 175, 200, 225, 250],\n",
    "              [  0,  25,  50,  75, 100, 125, 150, 175, 200, 225, 250],\n",
    "              [255, 255, 255, 255, 255, 255, 255, 255, 255, 255, 255],\n",
    "              [255, 255, 255, 255, 255, 255, 255, 255, 255, 255, 255],\n",
    "              [255, 255, 255, 255, 255, 255, 255, 255, 255, 255, 255],\n",
    "              [255, 255, 255, 255, 255, 255, 255, 255, 255, 255, 255]])"
   ]
  },
  {
   "cell_type": "markdown",
   "id": "cde3ad35",
   "metadata": {},
   "source": [
    "is equivalent to:"
   ]
  },
  {
   "cell_type": "code",
   "execution_count": null,
   "id": "594ed336",
   "metadata": {},
   "outputs": [],
   "source": [
    "# The code below illustrates one way to develop the equivalent 12 x 11 matrix in an easier way.\n",
    "A_part1 = 1*np.ones([4,11], dtype = int)\n",
    "A_part2 = np.array([np.arange(0, 275, 25, dtype = int),\n",
    "                   np.arange(0, 275, 25, dtype = int),\n",
    "                   np.arange(0, 275, 25, dtype = int),\n",
    "                   np.arange(0, 275, 25, dtype = int)])\n",
    "A_part3 = 255*np.ones([4,11], dtype = int)\n",
    "\n",
    "A_new = np.append(A_part1, A_part2, axis = 0)\n",
    "A_new = np.append(A_new, A_part3, axis = 0)\n",
    "\n",
    "print(np.array_equal(A, A_new))\n"
   ]
  },
  {
   "cell_type": "markdown",
   "id": "1214582d",
   "metadata": {},
   "source": [
    "Using np.arange() and np.ones(), you can easily build up your image with thousands of pixels if desired.\n",
    "And to display the image defined with matrix A, we can use the following code."
   ]
  },
  {
   "cell_type": "code",
   "execution_count": null,
   "id": "c9b46f37",
   "metadata": {},
   "outputs": [],
   "source": [
    "plt.imshow(A_new, vmin = 0, vmax = 255, cmap='gray')"
   ]
  },
  {
   "cell_type": "markdown",
   "id": "50b46126",
   "metadata": {},
   "source": [
    "A simple “transpose” operation may be performed on the matrix by using the “.T” transpose\n",
    "function. By running the following lines of code you can visually understand how a transpose\n",
    "alters an image in a new figure. "
   ]
  },
  {
   "cell_type": "code",
   "execution_count": null,
   "id": "1f754e87",
   "metadata": {},
   "outputs": [],
   "source": [
    "# A simple \"transpose\" operation may be performed on the matrix by using the “.T” transpose function\n",
    "print(A_new.T)\n",
    "plt.imshow(A_new.T, vmin = 0, vmax = 255, cmap='gray')"
   ]
  },
  {
   "cell_type": "markdown",
   "id": "9bb22522",
   "metadata": {},
   "source": [
    "   So far we have been working with greyscale images, where pixel intensity values from 0 to 255\n",
    "represent black, white, and various shades of grey. How about color images, how are they different\n",
    "from greyscale images?\n",
    "\n",
    "   First off, color will add depth to your image as well as to the matrix\n",
    "producing it. By adding color, there will be 3 dimensions to your matrix (MxNxD). The additional\n",
    "3\n",
    "rd dimension (denoted by D), added to the 2-dimnesional case seen prior as greyscale, accounts\n",
    "for the RGB layers (Red, Green, Blue) of the color image. Each pixel now has 3 components, so,\n",
    "we will have 3 matrices to describe the R and G and B pieces of the colored image. Here is an\n",
    "example where you will be able to recognize many similarities to the previous greyscale code:"
   ]
  },
  {
   "cell_type": "code",
   "execution_count": null,
   "id": "3719b341",
   "metadata": {},
   "outputs": [],
   "source": [
    "# Color: RGB 3-Dimentional Matrix\n",
    "# Overlay 3 Matrices\n",
    "\n",
    "# Define the Red layer\n",
    "A_R = [[255, 0, 0],\n",
    "       [255, 0, 0],\n",
    "       [255, 0, 0]]\n",
    "\n",
    "# Define the Green layer\n",
    "A_G = [[0, 255, 0],\n",
    "       [0, 255, 0],\n",
    "       [0, 255, 0]]\n",
    "\n",
    "# Define the Blue layer\n",
    "A_B = [[0, 0, 255],\n",
    "       [0, 0, 255],\n",
    "       [0, 0, 255]]\n",
    "\n",
    "# Overlay 3 layers\n",
    "A = np.stack([A_R, A_G, A_B], axis = 2)\n",
    "print(A)\n",
    "\n",
    "# print the defined image\n",
    "plt.imshow(A)"
   ]
  },
  {
   "cell_type": "markdown",
   "id": "6a9bedaa",
   "metadata": {},
   "source": [
    "Here is an example of a larger image where colors overlay and are seen in an additive sense:"
   ]
  },
  {
   "cell_type": "code",
   "execution_count": null,
   "id": "0b6d9801",
   "metadata": {},
   "outputs": [],
   "source": [
    "# https://en.wikipedia.org/wiki/Additive_color\n",
    "# Overlay 3 Matrices\n",
    "\n",
    "# Define the sub-elements of matrices\n",
    "Ele_1 = 255*np.ones([6,4], dtype = int)\n",
    "Ele_2 = np.zeros([6,2], dtype = int)\n",
    "Ele_3 = np.zeros([6,1], dtype = int)\n",
    "\n",
    "# Define the Red layer\n",
    "A_R = np.append(Ele_1, Ele_2, axis = 1)\n",
    "\n",
    "# Define the Green layer\n",
    "A_G = np.append(Ele_3, Ele_1, axis = 1)\n",
    "A_G = np.append(A_G, Ele_3, axis = 1)\n",
    "\n",
    "# Define the Blue layer\n",
    "A_B = np.append(Ele_2, Ele_1, axis = 1)\n",
    "\n",
    "# Overlay RGB layers\n",
    "A = np.stack([A_R, A_G, A_B], axis = 2)\n",
    "\n",
    "# print the defined image\n",
    "plt.imshow(A)"
   ]
  },
  {
   "cell_type": "markdown",
   "id": "f211fe6a",
   "metadata": {},
   "source": [
    "### Exercise 1b\n",
    "After understanding the development of a 3-dimensional matrix to produce an RGB\n",
    "image and functions used to display the defined image, create a color pattern of your choice with\n",
    "at least a 6 x 6 x 3 matrix."
   ]
  },
  {
   "cell_type": "markdown",
   "id": "ede4f245",
   "metadata": {},
   "source": [
    "# Section 2: Loading Images into Python notebook"
   ]
  },
  {
   "cell_type": "markdown",
   "id": "b2a95db2",
   "metadata": {},
   "source": [
    "The previous section was to get you familiar with using python to create and manipulate your\n",
    "own images. You should now understand that images are stored as arrays/matrices in python. \n",
    "\n",
    "Now let’s take an existing image and see how we can manipulate it. Before we can do this, we\n",
    "must first load the image into python. \n",
    "Loading an image into python can\n",
    "be performed using a single function."
   ]
  },
  {
   "cell_type": "code",
   "execution_count": null,
   "id": "63df6a36",
   "metadata": {
    "scrolled": false
   },
   "outputs": [],
   "source": [
    "# Use the following function to load your image('test.jpg')\n",
    "IMG = plt.imread(\"test.jpg\")\n",
    "plt.imshow(IMG)"
   ]
  },
  {
   "cell_type": "markdown",
   "id": "340f2d31",
   "metadata": {},
   "source": [
    "Note that in order to use this method, your image must be in your Current Jupyter Notebook Folder in order for\n",
    "python to recognize and load it into your Workspace."
   ]
  },
  {
   "cell_type": "markdown",
   "id": "8ed4df8f",
   "metadata": {},
   "source": [
    "### Exercise 2a: \n",
    "Do a google images search and download a color JPG format image. Use the above\n",
    "methods to place your image into the python. Execute the plt.imread() command and\n",
    "store your image as a variable called “IMG”."
   ]
  },
  {
   "cell_type": "code",
   "execution_count": null,
   "id": "72a59641",
   "metadata": {},
   "outputs": [],
   "source": [
    "IMG = plt.imread(\"Ship-Camo.jpg\")\n",
    "\n",
    "plt.imshow(IMG)"
   ]
  },
  {
   "cell_type": "markdown",
   "id": "573b5fac",
   "metadata": {},
   "source": [
    "Notice that after you execute this command, a variable called IMG will be created. Notice that this\n",
    "variable is actually a matrix of numbers, as explained in the first section of this lab. Take a second\n",
    "to recall the significance of this. Python and pretty much all digital image processing software\n",
    "tools store images as just huge matrices of numbers. From mathematics, we can perform\n",
    "mathematical operations on matrices with ease. Many of the effects we will explore when we get\n",
    "to the section on filtering involve simple mathematical operations on matrices. Keep this in mind\n",
    "as you progress through the lab.\n",
    "\n",
    "Now there are a few questions you should ask yourself at this point. From our previous discussion\n",
    "the answers should hopefully be clear by now. One, why is the image sized the way it is, why does\n",
    "it have three dimensions. Two, what do the values of the numbers mean? Before proceeding to the\n",
    "next exercise, be sure to spend some time thinking about these questions. "
   ]
  },
  {
   "cell_type": "markdown",
   "id": "bd53a3ea",
   "metadata": {},
   "source": [
    "# Section 3: Exploring the Image Structure"
   ]
  },
  {
   "cell_type": "markdown",
   "id": "228edff8",
   "metadata": {},
   "source": [
    "Notice that your dot JPG image is stored as a MxNx3 dimensional matrix (M denotes the number\n",
    "of rows, N the number of columns, and 3 is the number of layers). You know that you can represent\n",
    "any color as a combination of Red, Green, and Blue. These layers specify the exact content of each\n",
    "of these RGB building blocks per pixel. To get a better understanding of this, you should break\n",
    "the image up into components and display each layer as a separate image."
   ]
  },
  {
   "cell_type": "code",
   "execution_count": null,
   "id": "f938ccd7",
   "metadata": {},
   "outputs": [],
   "source": [
    "# To separate the RGB layers, we can slice the IMG variable with following command\n",
    "R = IMG[:, :, 0]"
   ]
  },
  {
   "cell_type": "markdown",
   "id": "fb3653fa",
   "metadata": {},
   "source": [
    "### Exercise 3a:\n",
    "Separate your image into RGB layers. Execute the previously mentioned command\n",
    "for each layer (R, G, and B, or the 1st, 2nd, and 3rd layers) of the image. Save your results in variables\n",
    "R,G, and B for the next exercise. (NOTE: the python arrays start at index 0)"
   ]
  },
  {
   "cell_type": "code",
   "execution_count": null,
   "id": "c781efbf",
   "metadata": {},
   "outputs": [],
   "source": [
    "# Separating RGB layers from the IMG\n",
    "R = IMG[:, :, 0]\n",
    "G = IMG[:, :, 1]\n",
    "B = IMG[:, :, 2]\n"
   ]
  },
  {
   "cell_type": "markdown",
   "id": "25ae43ed",
   "metadata": {},
   "source": [
    "Look at the dimensions on each of these single layer matrices, you will notice that they are only MxN\n",
    "and they are missing the third dimension. This is because you have in effect taken the single 3-\n",
    "layered image and have split it up into three single layered images.\n",
    "\n",
    "In order to get around this issue, for each image layer (R,G, and B), we will recreate the other two\n",
    "layers. We will use all zeroes for the pixel values of these reconstructed layers, this will in effect\n",
    "only show the RGB layer of interest when we call plt.imshow() (an RGB image with a nonzero Red\n",
    "layer and zero Blue and Green layers). Here is the code which will accomplish all of the above. "
   ]
  },
  {
   "cell_type": "code",
   "execution_count": null,
   "id": "efd57cb8",
   "metadata": {},
   "outputs": [],
   "source": [
    "# Construct the all zero M x N helper matrix\n",
    "helper_layer = np.zeros(R.shape, dtype = int)\n",
    "\n",
    "# Construct the new images with separated R, G, B layers\n",
    "red_only   = np.stack([R, helper_layer, helper_layer], axis = 2)\n",
    "green_only = np.stack([helper_layer, G, helper_layer], axis = 2)\n",
    "blue_only  = np.stack([helper_layer, helper_layer, B], axis = 2)"
   ]
  },
  {
   "cell_type": "markdown",
   "id": "cd28e901",
   "metadata": {},
   "source": [
    "### Exercise 3b: \n",
    "Look at the original image; can you guess which of the RGB layers seems to be of\n",
    "most importance or is most prevalent? (Does the image have a redder tone to it? You could say\n",
    "that the Red layer is most prevalent). Display each of the RGB layers using imshow()."
   ]
  },
  {
   "cell_type": "code",
   "execution_count": null,
   "id": "3cf617b5",
   "metadata": {},
   "outputs": [],
   "source": [
    "plt.figure(1)\n",
    "plt.imshow(red_only)\n",
    "plt.figure(2)\n",
    "plt.imshow(green_only)\n",
    "plt.figure(3)\n",
    "plt.imshow(blue_only)"
   ]
  },
  {
   "cell_type": "markdown",
   "id": "5679ffc2",
   "metadata": {},
   "source": [
    "##### After you have identified which layer you think is of most importance, let’s see what happens to the image if we alter that particular layer"
   ]
  },
  {
   "cell_type": "markdown",
   "id": "0f213de5",
   "metadata": {},
   "source": [
    "### Exercise 3c:\n",
    "Scale this layer of your image by some factor which is less than 1. For example, using\n",
    "the following line of code, I can scale down the red layer of my image by a scale factor of 0.2, and\n",
    "then add it back to my original image:"
   ]
  },
  {
   "cell_type": "code",
   "execution_count": null,
   "id": "6a8ce0f4",
   "metadata": {},
   "outputs": [],
   "source": [
    "# Scale down the red layer\n",
    "new_R = np.array(0.2 * R, dtype = int)\n",
    "# Construct new image with scaled layer\n",
    "new_image_1 = np.stack([new_R, G, B], axis = 2)\n",
    "\n",
    "# Or you can try the equivalent method given below\n",
    "\n",
    "# totalPixels = IMG.shape[0] * IMG.shape[1] * IMG.shape[2]\n",
    "# new_image = np.zeros(totalPixels, dtype=int).reshape(IMG.shape)\n",
    "# new_image[:,:,0] = new_R\n",
    "# new_image[:,:,1] = G\n",
    "# new_image[:,:,2] = B"
   ]
  },
  {
   "cell_type": "code",
   "execution_count": null,
   "id": "e83bb7f7",
   "metadata": {},
   "outputs": [],
   "source": [
    "# Scale down the blue layer\n",
    "new_B = np.array(0.2 * B, dtype = int)\n",
    "# Construct new image with scaled layer\n",
    "new_image_2 = np.stack([R, G, new_B], axis = 2)"
   ]
  },
  {
   "cell_type": "markdown",
   "id": "4eb38310",
   "metadata": {},
   "source": [
    "### Exercise 3d:\n",
    "Display this new image and compare it to the original image, would you say your\n",
    "image looks better or worse? Comment."
   ]
  },
  {
   "cell_type": "code",
   "execution_count": null,
   "id": "32ea1426",
   "metadata": {},
   "outputs": [],
   "source": [
    "plt.figure(1)\n",
    "plt.imshow(new_image_1)\n",
    "plt.figure(2)\n",
    "plt.imshow(new_image_2)\n",
    "plt.figure(3)\n",
    "plt.imshow(IMG)"
   ]
  },
  {
   "cell_type": "markdown",
   "id": "c007eb01",
   "metadata": {},
   "source": [
    "### Exercise 3e:\n",
    "\n",
    "Teeth Whitening.\n",
    "\n",
    "Whitening toothpaste often achieves its goal by taking advantage of a phenomenon known as an\n",
    "optical shift. Basically, a blue pigment contained in the toothpaste is applied to stained teeth during\n",
    "regular brushing. A thin layer of this pigment is deposited which alters the optical qualities (how\n",
    "the light reflected off of the surface of the tooth is perceived by the brain) of the stained tooth and\n",
    "makes the tooth appear visibly whiter. In this exercise, we will simulate the effects of whitening\n",
    "toothpaste on some yellowed teeth using python and the concepts you have learned so far.\n",
    "\n",
    "Complete the following steps using the provided image, ‘stained_teeth.jpg’.\n",
    "\n",
    "Step 1) Import the image “stained_teeth.jpg” into your workspace.\n",
    "\n",
    "Step 2) Separate the blue layer from this image. Amplify this layer by scaling it up by some number\n",
    "greater than 1.\n",
    "\n",
    "Step 3) Take your new blue layer, and combine it with the original red and green layers of the\n",
    "“stained_teeth” image. (Hint: You can make use of the cat() function to do this.)\n",
    "\n",
    "Step 4) Show the new image next to the old image using subplot(). Do the teeth appear whiter? If\n",
    "there is no noticeable effect, try increasing your scale factor.\n",
    "\n",
    "Step 5) Try different scaling factors for the blue layer, display two new images with differently\n",
    "scaled blue layers.\n"
   ]
  },
  {
   "cell_type": "code",
   "execution_count": null,
   "id": "fa8fb7c9",
   "metadata": {},
   "outputs": [],
   "source": [
    "# Step 1) Import the image “stained_teeth.jpg” into your workspace.\n",
    "teeth_img = plt.imread(\"stained-teeth.jpg\")\n",
    "\n",
    "#Step 2) Separate the blue layer from this image. Amplify this layer by scaling it up by some number greater than 1.\n",
    "new_blue_layer = 1.2 * teeth_img[:,:,2]\n",
    "\n",
    "#Step 3) Take your new blue layer, and combine it with the original red and green layers\n",
    "#        of the “stained_teeth” image.\n",
    "num_pixels = teeth_img.shape[0] * teeth_img.shape[1] * teeth_img.shape[2]\n",
    "new_teeth = np.zeros(num_pixels, dtype = int).reshape(teeth_img.shape)\n",
    "new_teeth[:,:,0] = teeth_img[:,:,0]\n",
    "new_teeth[:,:,1] = teeth_img[:,:,1]\n",
    "new_teeth[:,:,2] = new_blue_layer\n",
    "\n",
    "#Step 4) Show the new image next to the old image using subplot(). \n",
    "#        Do the teeth appear whiter? If there is no noticeable effect, try increasing your scale factor.\n",
    "fig, (ax1, ax2) = plt.subplots(1, 2)\n",
    "ax1.imshow(teeth_img)\n",
    "ax2.imshow(new_teeth)"
   ]
  },
  {
   "cell_type": "code",
   "execution_count": null,
   "id": "2f1f170e",
   "metadata": {},
   "outputs": [],
   "source": [
    "#Step 5) Try different scaling factors for the blue layer, display two new images with differently scaled blue layers.\n",
    "another_blue_layer = 1.5 * teeth_img[:,:,2]\n",
    "whiter_teeth = np.zeros(num_pixels, dtype = int).reshape(teeth_img.shape)\n",
    "whiter_teeth[:,:,0] = teeth_img[:,:,0]\n",
    "whiter_teeth[:,:,1] = teeth_img[:,:,1]\n",
    "whiter_teeth[:,:,2] = another_blue_layer\n",
    "\n",
    "fig, (ax1, ax2) = plt.subplots(1, 2)\n",
    "ax1.imshow(new_teeth)\n",
    "ax2.imshow(whiter_teeth)"
   ]
  },
  {
   "cell_type": "markdown",
   "id": "7b405184",
   "metadata": {},
   "source": [
    "# Section 4: Image Histograms"
   ]
  },
  {
   "cell_type": "markdown",
   "id": "ed9b66d9",
   "metadata": {},
   "source": [
    "# Section 6: Filtering"
   ]
  },
  {
   "cell_type": "markdown",
   "id": "c719d090",
   "metadata": {},
   "source": [
    "## Instructions"
   ]
  },
  {
   "cell_type": "markdown",
   "id": "6450866d",
   "metadata": {},
   "source": [
    "In this section, we have provided a couple filters for you to play with. If you are familiar for Python, feel free to examine the code to see what each function is doing, but for this class, you will not need to understand the inner working of these functions."
   ]
  },
  {
   "cell_type": "code",
   "execution_count": null,
   "id": "004fecaf",
   "metadata": {},
   "outputs": [],
   "source": [
    "# scale the R, G, B values by the input factors\n",
    "# img = input image\n",
    "# R_factor = scale factor for Red\n",
    "# G_factor = scale factor for Green\n",
    "# B_factor = scale factor for Blue\n",
    "\n",
    "def scale_RGB(img, R_factor, G_factor, B_factor):\n",
    "    temp_R = img[:, :, 0].astype(np.int16)\n",
    "    temp_G = img[:, :, 1].astype(np.int16)\n",
    "    temp_B = img[:, :, 2].astype(np.int16)\n",
    "    \n",
    "    new_R = np.array(R_factor * temp_R, dtype = np.int16)\n",
    "    new_G = np.array(G_factor * temp_G, dtype = np.int16)\n",
    "    new_B = np.array(B_factor * temp_B, dtype = np.int16)\n",
    "\n",
    "    return np.stack([new_R, new_G, new_B], axis = 2)"
   ]
  },
  {
   "cell_type": "code",
   "execution_count": null,
   "id": "f448b478",
   "metadata": {},
   "outputs": [],
   "source": [
    "# adjust the contrast of an image\n",
    "# img = input image\n",
    "# val = contrast value\n",
    "\n",
    "def contrast(img, val):\n",
    "    temp_R = img[:, :, 0].astype(np.int16)\n",
    "    temp_G = img[:, :, 1].astype(np.int16)\n",
    "    temp_B = img[:, :, 2].astype(np.int16)\n",
    "    \n",
    "    factor = (259 * (val + 255)) / (255 * (259 - val))\n",
    "    \n",
    "    new_R_val = factor * (temp_R - 128) + 128\n",
    "    new_G_val = factor * (temp_G - 128) + 128\n",
    "    new_B_val = factor * (temp_B - 128) + 128\n",
    "\n",
    "    new_R = np.array(new_R_val, dtype = int)\n",
    "    new_G = np.array(new_G_val, dtype = int)\n",
    "    new_B = np.array(new_B_val, dtype = int)\n",
    "\n",
    "    return np.stack([new_R, new_G, new_B], axis = 2)"
   ]
  },
  {
   "cell_type": "code",
   "execution_count": null,
   "id": "8c5e1caa",
   "metadata": {},
   "outputs": [],
   "source": [
    "# turn an image into black and white\n",
    "# img = input img\n",
    "\n",
    "def grayscale(img):\n",
    "    Rval = IMG[:,:,0].reshape(-1).astype(np.int16)\n",
    "    Gval = IMG[:,:,1].reshape(-1).astype(np.int16)\n",
    "    Bval = IMG[:,:,2].reshape(-1).astype(np.int16)\n",
    "\n",
    "    gray = 0.2989 * Rval + 0.5870 * Gval + 0.1140 * Bval\n",
    "    gray = gray.reshape(len(IMG), len(IMG[0])).astype(np.int16)\n",
    "    gray = np.stack([gray, gray, gray], axis = 2).astype(np.uint8)\n",
    "    \n",
    "    return gray"
   ]
  },
  {
   "cell_type": "code",
   "execution_count": null,
   "id": "76d769a8",
   "metadata": {},
   "outputs": [],
   "source": [
    "# flip the image horizontally\n",
    "# img = input img\n",
    "\n",
    "def h_flip(img):\n",
    "    new_img = np.zeros(shape=img.shape)\n",
    "    for row in range(len(img)):\n",
    "        new_img[row] = img[row][::-1]\n",
    "        \n",
    "    return new_img.astype(np.int16)"
   ]
  },
  {
   "cell_type": "markdown",
   "id": "21fa0dc4",
   "metadata": {},
   "source": [
    "Here are some examples of how these functions are used."
   ]
  },
  {
   "cell_type": "code",
   "execution_count": null,
   "id": "1a7c0b87",
   "metadata": {},
   "outputs": [],
   "source": [
    "IMG = plt.imread(\"Ship-Camo.jpg\")\n",
    "IMG2 = scale_RGB(IMG, 0.3, 1, 1)\n",
    "plt.imshow(IMG2)"
   ]
  },
  {
   "cell_type": "code",
   "execution_count": null,
   "id": "97de3e24",
   "metadata": {},
   "outputs": [],
   "source": [
    "IMG2 = contrast(IMG, 128)\n",
    "plt.imshow(IMG2)"
   ]
  },
  {
   "cell_type": "code",
   "execution_count": null,
   "id": "049027c1",
   "metadata": {},
   "outputs": [],
   "source": [
    "IMG2 = grayscale(IMG)\n",
    "plt.imshow(IMG2)"
   ]
  },
  {
   "cell_type": "code",
   "execution_count": null,
   "id": "b69cd83f",
   "metadata": {},
   "outputs": [],
   "source": [
    "IMG2 = h_flip(IMG)\n",
    "plt.imshow(IMG2)"
   ]
  },
  {
   "cell_type": "markdown",
   "id": "bf0433b0",
   "metadata": {},
   "source": [
    "## Questions"
   ]
  },
  {
   "cell_type": "markdown",
   "id": "ca9e0c1e",
   "metadata": {},
   "source": [
    "For these following questions, we will provide you two images that have been destroyed. Your task is to restore them to their original form as best as you can. "
   ]
  },
  {
   "cell_type": "markdown",
   "id": "09c5dacf",
   "metadata": {},
   "source": [
    "**Question 1**: This is an image of a UW student by week 2 of every quarter."
   ]
  },
  {
   "cell_type": "code",
   "execution_count": null,
   "id": "00a7f3ad",
   "metadata": {},
   "outputs": [],
   "source": [
    "# Load modified image for question 1 from txt file\n",
    "img1 = np.loadtxt('section_6_q1.txt')\n",
    "img1 = img1.reshape(img1.shape[0], int(img1.shape[1]/3), 3)"
   ]
  },
  {
   "cell_type": "code",
   "execution_count": null,
   "id": "4eddf28a",
   "metadata": {},
   "outputs": [],
   "source": [
    "# Your answer here"
   ]
  },
  {
   "cell_type": "markdown",
   "id": "5b8b071c",
   "metadata": {},
   "source": [
    "**Question 2**: This is an image of the building belonging to the best department at UW. (Hint: You will also need to flip the image.)"
   ]
  },
  {
   "cell_type": "code",
   "execution_count": null,
   "id": "3397b571",
   "metadata": {},
   "outputs": [],
   "source": [
    "# Load modified image for question 2 from txt file\n",
    "img2 = np.loadtxt('section_6_q2.txt')\n",
    "img2 = img2.reshape(img2.shape[0], int(img2.shape[1]/3), 3)"
   ]
  },
  {
   "cell_type": "code",
   "execution_count": null,
   "id": "359f548d",
   "metadata": {},
   "outputs": [],
   "source": [
    "# Your answer here"
   ]
  }
 ],
 "metadata": {
  "kernelspec": {
   "display_name": "Python 3 (ipykernel)",
   "language": "python",
   "name": "python3"
  },
  "language_info": {
   "codemirror_mode": {
    "name": "ipython",
    "version": 3
   },
   "file_extension": ".py",
   "mimetype": "text/x-python",
   "name": "python",
   "nbconvert_exporter": "python",
   "pygments_lexer": "ipython3",
   "version": "3.9.7"
  }
 },
 "nbformat": 4,
 "nbformat_minor": 5
}
