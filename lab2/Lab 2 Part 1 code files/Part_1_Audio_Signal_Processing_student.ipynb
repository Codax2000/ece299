{
 "cells": [
  {
   "cell_type": "markdown",
   "id": "8f1c3dcd",
   "metadata": {},
   "source": [
    "# Section 1: Creating a Signal in Python"
   ]
  },
  {
   "cell_type": "markdown",
   "id": "fe3330bc",
   "metadata": {},
   "source": [
    "## Instructions\n",
    "\n",
    "In this section, we will learn how to create basic sine and cosine signals in Python."
   ]
  },
  {
   "cell_type": "markdown",
   "id": "8306c83b",
   "metadata": {},
   "source": [
    "First, we need to import all the packages we will use. Import statements are usually put at the top of the file. Click on the cell below and press the run button, or alternatively, you can press Shift+Enter to run the cell."
   ]
  },
  {
   "cell_type": "code",
   "execution_count": null,
   "id": "69f47e37",
   "metadata": {},
   "outputs": [],
   "source": [
    "# imports all the necessary functions\n",
    "\n",
    "import numpy as np\n",
    "import matplotlib\n",
    "import matplotlib.pyplot as plt\n",
    "import simpleaudio as sa\n",
    "import scipy.signal as sig\n",
    "from scipy.io import wavfile as wav"
   ]
  },
  {
   "cell_type": "markdown",
   "id": "b3cdbba3",
   "metadata": {},
   "source": [
    "Let's first create a basic sine wave. To do that, we will use a numpy function called *np.sin()*. This function takes in an array of x as its parameter and returns an array of sin(x). \n",
    "\n",
    "The full documentation of the function can be found here:\n",
    "\n",
    "https://numpy.org/doc/stable/reference/generated/numpy.sin.html"
   ]
  },
  {
   "cell_type": "code",
   "execution_count": null,
   "id": "d9ae67aa",
   "metadata": {},
   "outputs": [],
   "source": [
    "# Objective: Create a sine wave\n",
    "\n",
    "# frequency of the sine wave\n",
    "f = 1000\n",
    "\n",
    "# angular frequency of the sine wave\n",
    "w = 2*np.pi*f\n",
    "\n",
    "# sampling frequency\n",
    "fs = 4*w\n",
    "\n",
    "# amplitude\n",
    "a = 1\n",
    "\n",
    "# Create data points for the time axis\n",
    "t = np.arange(0, 0.001, 1/fs)\n",
    "\n",
    "# Create the sine wave\n",
    "y = a*np.sin(w*t)"
   ]
  },
  {
   "cell_type": "markdown",
   "id": "ee72a65d",
   "metadata": {},
   "source": [
    "We now use mathplotlib to plot our sine wave, which has conveniently been imported as plt. The plot function takes 2 parameters:\n",
    "\n",
    " * The first parameter is the x array.\n",
    " \n",
    " * The second parameter is the y array.\n",
    "\n",
    "The full documentation can be found here:\n",
    "\n",
    "https://matplotlib.org/stable/api/_as_gen/matplotlib.pyplot.html\n"
   ]
  },
  {
   "cell_type": "code",
   "execution_count": null,
   "id": "f0c37f82",
   "metadata": {},
   "outputs": [],
   "source": [
    "# Objective: Plot the sine wave\n",
    "\n",
    "# Label the plot\n",
    "plt.xlabel('Time (s)')\n",
    "plt.ylabel('Amplitude')\n",
    "plt.title('Sine Wave')\n",
    "\n",
    "# Plot the sine wave\n",
    "plt.plot(t, y)"
   ]
  },
  {
   "cell_type": "markdown",
   "id": "e554f715",
   "metadata": {},
   "source": [
    "We can also create cosine wave similar to how we created the sine wave."
   ]
  },
  {
   "cell_type": "code",
   "execution_count": null,
   "id": "14902822",
   "metadata": {},
   "outputs": [],
   "source": [
    "# Objective: Add a cosine wave to the graph\n",
    "\n",
    "# Create a cosine wave with the same parameters as the sine wave\n",
    "z = a*np.cos(w*t)\n",
    "\n",
    "# Plot both waves\n",
    "plt.xlabel('Time (s)')\n",
    "plt.ylabel('Amplitude')\n",
    "plt.title('Sine and Cosine Wave')\n",
    "plt.plot(t, y, label = \"sine\")\n",
    "plt.plot(t, z, label = \"cosine\")\n",
    "plt.legend()\n"
   ]
  },
  {
   "cell_type": "markdown",
   "id": "d4004a79",
   "metadata": {},
   "source": [
    "## Questions"
   ]
  },
  {
   "cell_type": "markdown",
   "id": "477008fd",
   "metadata": {},
   "source": [
    "**NOTE**: Variables get carried through the entire notebook, so when you write your answers, be careful not to accidentally overriding another variable in the previous cells that you might want to use again later. If you ever run into strange bugs, you can try to rerun the notebook from the top to reset all the variables."
   ]
  },
  {
   "cell_type": "markdown",
   "id": "bfb02325",
   "metadata": {},
   "source": [
    "**Question 1**: Plot a sine wave with a frequency f1 = 2000 Hz and amplitude a1 = 1.5. Set the sampling frequency (fs) to be 5 times of the angular frequency, “w”."
   ]
  },
  {
   "cell_type": "code",
   "execution_count": null,
   "id": "b2da971e",
   "metadata": {},
   "outputs": [],
   "source": [
    "# Your answer here"
   ]
  },
  {
   "cell_type": "markdown",
   "id": "c32d9dd0",
   "metadata": {},
   "source": [
    "**Question 2**: Plot different sine waves at the same amplitude and frequency as question 1, but vary the frequency at which they are sampled (sampling frequency). Plot sine waves sampled at 0.5\\*w, 1\\*w, 2\\*w, and finally 5\\*w. 2\\*w has been done for you as an example, but it will not work until you have correctly defined w1, a1 from question 1.\n",
    "\n",
    "Documentation for subplot() is here:\n",
    "\n",
    "https://matplotlib.org/stable/api/_as_gen/matplotlib.pyplot.subplot.html"
   ]
  },
  {
   "cell_type": "code",
   "execution_count": null,
   "id": "75e148dd",
   "metadata": {},
   "outputs": [],
   "source": [
    "# Your answer here\n",
    "\n",
    "# create 4 subplots\n",
    "fig, axs = plt.subplots(4)\n",
    "plt.xlabel('Time (s)')\n",
    "plt.ylabel('Amplitude')\n",
    "plt.subplots_adjust(top=2, hspace=0.5)\n",
    "\n",
    "# fs = 0.5*w\n",
    "\n",
    "\n",
    "# fs = 1*w\n",
    "\n",
    "\n",
    "# fs = 2*w\n",
    "fs2 = 2*w1\n",
    "t2 = np.arange(0, 0.001, 1/fs2)\n",
    "y2 = a1*np.sin(w1*t2)\n",
    "\n",
    "axs[2].set_title('Sine Wave (fs=2*w)')\n",
    "axs[2].plot(t2, y2)\n",
    "\n",
    "# fs = 5*w\n"
   ]
  },
  {
   "cell_type": "markdown",
   "id": "91f27494",
   "metadata": {},
   "source": [
    "**Question 3**: Comment on how the shape of the sine wave changes as you change the sampling frequency. Do certain plots look better than others?  "
   ]
  },
  {
   "cell_type": "markdown",
   "id": "d4617390",
   "metadata": {},
   "source": [
    "\\<Your answer here\\>"
   ]
  },
  {
   "cell_type": "markdown",
   "id": "d5ce0821",
   "metadata": {},
   "source": [
    "# Section 2: Importing Sound Files into Jupyter Notebook"
   ]
  },
  {
   "cell_type": "markdown",
   "id": "6fad9777",
   "metadata": {},
   "source": [
    "## Instructions"
   ]
  },
  {
   "cell_type": "markdown",
   "id": "4536e120",
   "metadata": {},
   "source": [
    "While it is possible to make music with just sine and cosine waves, we will not be doing that. Instead, we will import audio file into our notebook. In particular, we will be importing wav file. We will explore two different methods of importing wav file. Both methods have their strengths and weaknesses."
   ]
  },
  {
   "cell_type": "markdown",
   "id": "b9f0e37c",
   "metadata": {},
   "source": [
    "### Method 1: Use simpleaudio package"
   ]
  },
  {
   "cell_type": "markdown",
   "id": "fc261d62",
   "metadata": {},
   "source": [
    "The simpleaudio package gives us an elegant way to play wav file directly within our Python code. You can also quickly get access to different parameters of the wav file. For example, we can check the number of channels as shown below."
   ]
  },
  {
   "cell_type": "code",
   "execution_count": null,
   "id": "c0a8abb7",
   "metadata": {},
   "outputs": [],
   "source": [
    "# Objective: Play an audio file using simpleaudio package\n",
    "\n",
    "# Store the name of the audio file into a variable\n",
    "fname = \"canon_in_D_major_short.wav\"\n",
    "\n",
    "# Import the sound file into a WaveObject called y3\n",
    "# This WaveObject is useful for playing audio sound in Python\n",
    "audio = sa.WaveObject.from_wave_file(fname)\n",
    "\n",
    "print('Number of channels for audio = ', audio.num_channels)\n",
    "\n",
    "# play the sound file\n",
    "play_audio = sa.play_buffer(audio.audio_data, audio.num_channels, audio.bytes_per_sample, audio.sample_rate)\n",
    "play_audio.wait_done()"
   ]
  },
  {
   "cell_type": "markdown",
   "id": "98a72a3c",
   "metadata": {},
   "source": [
    "### Method 2: Use wavfile from scipy"
   ]
  },
  {
   "cell_type": "markdown",
   "id": "b1478ba0",
   "metadata": {},
   "source": [
    "While simpleaudio package allows us to play the audio, it lacks in other aspects such as modifying and writing wav file. For those tasks and the later parts of this notebook, we will primarily use wavfile from scipy. However, this wavfile method does not offer a convenient way to play the audio file directly."
   ]
  },
  {
   "cell_type": "code",
   "execution_count": null,
   "id": "2d027adf",
   "metadata": {},
   "outputs": [],
   "source": [
    "# Objective: Plot the audio file\n",
    "\n",
    "# Import the sound file again but this time use wav.read to import\n",
    "# the sound file into an array\n",
    "# Importing into an array allows us to plot and modify the audio signal\n",
    "audio_fs, audio_array = wav.read(fname)\n",
    "\n",
    "# Get the number of data points\n",
    "audio_len = len(audio_array)\n",
    "\n",
    "# Construct the time axis\n",
    "audio_t = np.arange(0,audio_len,1)\n",
    "audio_t = audio_t / audio_fs\n",
    "\n",
    "# Plot the audio signal\n",
    "plt.xlabel(\"Time (s)\")\n",
    "plt.plot(audio_t, audio_array)"
   ]
  },
  {
   "cell_type": "markdown",
   "id": "aeb696d7",
   "metadata": {},
   "source": [
    "Notice that there are actually two plots because our audio file has 2 channels. We can also plot each channel separately."
   ]
  },
  {
   "cell_type": "code",
   "execution_count": null,
   "id": "df189d9f",
   "metadata": {},
   "outputs": [],
   "source": [
    "# Objective: Plot each channel separately\n",
    "\n",
    "fig, axs = plt.subplots(2)\n",
    "plt.xlabel('Time (s)')\n",
    "plt.ylabel('Amplitude')\n",
    "plt.subplots_adjust(top=2, hspace=0.2)\n",
    "\n",
    "axs[0].plot(audio_t, audio_array[:,0], color='blue')\n",
    "axs[0].set_title(\"Channel 0\")\n",
    "\n",
    "axs[1].plot(audio_t, audio_array[:,1], color='orange')\n",
    "axs[1].set_title(\"Channel 1\")"
   ]
  },
  {
   "cell_type": "markdown",
   "id": "c191b951",
   "metadata": {},
   "source": [
    "# Section 3: Sampling an Analog Signal"
   ]
  },
  {
   "cell_type": "markdown",
   "id": "1c469e61",
   "metadata": {},
   "source": [
    "## Instructions"
   ]
  },
  {
   "cell_type": "markdown",
   "id": "b6fbfe66",
   "metadata": {},
   "source": [
    "In this section, we will resample the audio file using different sampling frequencies. Let's first check the original sampling frequency of the audio file. "
   ]
  },
  {
   "cell_type": "code",
   "execution_count": null,
   "id": "1c3ce650",
   "metadata": {},
   "outputs": [],
   "source": [
    "print(\"Sampling frequency: \", audio_fs, \"Hz\")"
   ]
  },
  {
   "cell_type": "markdown",
   "id": "cf7c5c80",
   "metadata": {},
   "source": [
    "Let's now try to resample the audio file using a different sampling frequency."
   ]
  },
  {
   "cell_type": "code",
   "execution_count": null,
   "id": "3ed88ae6",
   "metadata": {},
   "outputs": [],
   "source": [
    "# Objective: Use a provided resampling function to resample the audio signal from section 2\n",
    "\n",
    "# new sampling frequency in Hz\n",
    "new_audio_fs = 8000\n",
    "\n",
    "# Calculate number of samples in the resampled audio signal\n",
    "number_of_samples = round(len(audio_array) * (new_audio_fs/audio_fs))\n",
    "\n",
    "# Use a provided resampling function\n",
    "audio_resampled_array, audio_t_resampled = sig.resample(audio_array, number_of_samples, t=audio_t)"
   ]
  },
  {
   "cell_type": "markdown",
   "id": "029d0161",
   "metadata": {},
   "source": [
    "To make the next several steps easier, we defined a function that plots an audio signal within a specific time frame."
   ]
  },
  {
   "cell_type": "code",
   "execution_count": null,
   "id": "2931bcd9",
   "metadata": {},
   "outputs": [],
   "source": [
    "# start: start value in seconds\n",
    "# end:   end value in seconds\n",
    "# array: audio signal to be plotted\n",
    "# x:     time array corresponding to the array\n",
    "def plot_window(start, end, array, t):\n",
    "    # find the index range that covers the time window\n",
    "    temp = np.where(t >= start)\n",
    "    start_idx = temp[0][0]\n",
    "    temp = np.where(t >= end)\n",
    "    end_idx = temp[0][0]\n",
    "\n",
    "    # plot\n",
    "    plt.xlabel(\"Time (s)\")\n",
    "    plt.plot(t[start_idx:end_idx], array[start_idx:end_idx])\n",
    "    "
   ]
  },
  {
   "cell_type": "code",
   "execution_count": null,
   "id": "a36f7bae",
   "metadata": {},
   "outputs": [],
   "source": [
    "# Objective: Plot the original audio signal from time=2s to time=2.005s\n",
    "\n",
    "plot_window(2, 2.005, audio_array, audio_t)"
   ]
  },
  {
   "cell_type": "code",
   "execution_count": null,
   "id": "5ecd7bcc",
   "metadata": {
    "scrolled": true
   },
   "outputs": [],
   "source": [
    "# Objective: Plot the resampled audio signal from time=2s to time=2.005s\n",
    "\n",
    "plot_window(2, 2.005, audio_resampled_array, audio_t_resampled)"
   ]
  },
  {
   "cell_type": "code",
   "execution_count": null,
   "id": "e68402e5",
   "metadata": {
    "scrolled": false
   },
   "outputs": [],
   "source": [
    "# Objective: Write the resampled audio signal into a wav file\n",
    "\n",
    "# write the array into a wav file\n",
    "new_fname = \"resampled_\" + str(new_audio_fs) + \".wav\"\n",
    "\n",
    "wav.write(new_fname, new_audio_fs, audio_resampled_array.astype('int16'))\n",
    "\n",
    "print(\"Number of samples in resampled audio: \", len(audio_resampled_array))\n",
    "print(\"Number of samples in original audio: \", len(audio_array))"
   ]
  },
  {
   "cell_type": "markdown",
   "id": "caecd307",
   "metadata": {},
   "source": [
    "Earlier, we showed you a method of playing wav files directly in the notebook using WaveObject. Unfortunately, the WaveObject can only play audio files sampled at certain standard frequencies. \n",
    "\n",
    "Instead, to play the resampled audio file, go back to your EE299 folder in the other tab (or wherever you are storing this notebook in the Jupyter environment). At that location, you should see a file called \"resampled_[new_audio_fs].wav\". Download it and play it using your computer's audio player.\n",
    "\n",
    "Note: If you run into problems trying to play the file directly on the browser, try downloading the file and play using the computer's audio player."
   ]
  },
  {
   "cell_type": "markdown",
   "id": "96b0e18a",
   "metadata": {},
   "source": [
    "## Questions"
   ]
  },
  {
   "cell_type": "markdown",
   "id": "b73f9507",
   "metadata": {},
   "source": [
    "**Question 1**: Resample the original audio signal at 1 kHz, 3 kHz, 10 kHz, 22.5 kHz and finally at the standard sampling rate for audio, 44.1 kHz. Plot each resampled audio signal and comment on any trend you observe. We have provided a predefined function and an example for 44.1 kHz to help you complete this question."
   ]
  },
  {
   "cell_type": "code",
   "execution_count": null,
   "id": "366d8309",
   "metadata": {},
   "outputs": [],
   "source": [
    "# A function that resamples the audio file imported from above, writes the resampled audio to a new file,\n",
    "# and plot the resampled audio within a time frame\n",
    "\n",
    "# new_audio_fs: resampling frequency in Hz\n",
    "def resample_plot(new_audio_fs):\n",
    "    # Calculate number of samples in the resampled audio signal\n",
    "    number_of_samples = round(len(audio_array) * (new_audio_fs/audio_fs))\n",
    "\n",
    "    # Use a provided resampling function\n",
    "    audio_resampled_array, audio_t_resampled = sig.resample(audio_array, number_of_samples, t=audio_t)\n",
    "    \n",
    "    # write the array into a wav file\n",
    "    new_fname = \"resampled_\" + str(new_audio_fs) + \".wav\"\n",
    "    wav.write(new_fname, new_audio_fs, audio_resampled_array.astype('int16'))\n",
    "    \n",
    "    # Plot the resampled audio signal from time=2s to time=2.005s <------Feel free to change the time frame as you like\n",
    "    plot_window(2, 2.005, audio_resampled_array, audio_t_resampled)"
   ]
  },
  {
   "cell_type": "code",
   "execution_count": null,
   "id": "e3734eb1",
   "metadata": {},
   "outputs": [],
   "source": [
    "# Example for 44.1 kHz\n",
    "resample_plot(44100)"
   ]
  },
  {
   "cell_type": "code",
   "execution_count": null,
   "id": "ad18f01d",
   "metadata": {},
   "outputs": [],
   "source": [
    "# Your answer here"
   ]
  },
  {
   "cell_type": "code",
   "execution_count": null,
   "id": "e8e72792",
   "metadata": {},
   "outputs": [],
   "source": [
    "# Your answer here"
   ]
  },
  {
   "cell_type": "code",
   "execution_count": null,
   "id": "c72c0299",
   "metadata": {},
   "outputs": [],
   "source": [
    "# Your answer here"
   ]
  },
  {
   "cell_type": "code",
   "execution_count": null,
   "id": "2a2bd297",
   "metadata": {},
   "outputs": [],
   "source": [
    "# Your answer here"
   ]
  },
  {
   "cell_type": "markdown",
   "id": "40027eca",
   "metadata": {},
   "source": [
    "\\<Your comment here\\>"
   ]
  },
  {
   "cell_type": "markdown",
   "id": "4f02c836",
   "metadata": {},
   "source": [
    "**Question 2**: After completing question 1, you should also have all the resampled wav files in the jupyter environment. Go to the browser tab with the Jupyter environment and download all the wav files. Listen to each wav file and comment on how the different resampling frequencies affect the audio."
   ]
  },
  {
   "cell_type": "markdown",
   "id": "9ae60d10",
   "metadata": {},
   "source": [
    "\\<Your answer here\\>"
   ]
  },
  {
   "cell_type": "markdown",
   "id": "d5f57858",
   "metadata": {},
   "source": [
    "# Section 4: Time and Frequency Representation"
   ]
  },
  {
   "cell_type": "markdown",
   "id": "7fcda0b8",
   "metadata": {},
   "source": [
    "## Instructions"
   ]
  },
  {
   "cell_type": "markdown",
   "id": "45b56372",
   "metadata": {},
   "source": [
    "In the previous sections, we have been exploring the audio signal in time domain. For this section, we will now explore the audio signal in frequency domain. In other words, we will explore which frequency component is in the audio and how much does that frequency contributes to the audio."
   ]
  },
  {
   "cell_type": "markdown",
   "id": "1fb736b4",
   "metadata": {},
   "source": [
    "To reduce scrolling frustration and improve clarity, we rerun the code for importing the original audio file and resampling here.\n"
   ]
  },
  {
   "cell_type": "code",
   "execution_count": null,
   "id": "eb8e8c91",
   "metadata": {},
   "outputs": [],
   "source": [
    "# For subsequent steps in this section, you only need to modify parameters in this cell and later.\n",
    "\n",
    "fname = \"canon_in_D_major_short.wav\"\n",
    "\n",
    "audio_fs, audio_array = wav.read(fname)\n",
    "audio_len = len(audio_array)\n",
    "audio_t = np.arange(0,audio_len,1)\n",
    "audio_t = audio_t / audio_fs\n",
    "\n",
    "new_audio_fs = 22050\n",
    "\n",
    "number_of_samples = round(len(audio_array) * (new_audio_fs/audio_fs))\n",
    "audio_resampled_array, audio_t_resampled = sig.resample(audio_array, number_of_samples, t=audio_t)"
   ]
  },
  {
   "cell_type": "markdown",
   "id": "b906c878",
   "metadata": {},
   "source": [
    "The details of how Fourier Transform is performed on a computer, also known as the Fast Fourier Transform, is fascinating to study. You will have the chance to dive deeper into Fourier Transform in higher level EE classes. For now, a plot_freq function has been provided for you below. The function will perform the Fast Fourier Transform and plot the power spectrum plot."
   ]
  },
  {
   "cell_type": "code",
   "execution_count": null,
   "id": "46979ddd",
   "metadata": {},
   "outputs": [],
   "source": [
    "# Objective: Plot the audio signal in frequency domain instead of time domain\n",
    "\n",
    "# Convert the provided signal in time domain to frequency domain and plot the power spectrum \n",
    "# array: the signal to be plotted (in time domain)\n",
    "# fs:    sampling rate of the signal\n",
    "def plot_freq(array, fs):\n",
    "    # Perform Fast Fourier Transform\n",
    "    xf = np.fft.fft(array[:,0], 4096)\n",
    "    \n",
    "    # Center the results around 0 Hz\n",
    "    xfs = np.fft.fftshift(xf)\n",
    "    \n",
    "    # Get the magnitude components of the results\n",
    "    yft = np.abs(xfs)\n",
    "    \n",
    "    # Construct an arbitrary large frequency array\n",
    "    f = np.arange(-1*100000, 100000, fs/4096)\n",
    "    \n",
    "    # Pad the yft array with zeros on both ends to be equal length with frequency array\n",
    "    diff = len(f) - len(yft)\n",
    "    yft = np.concatenate([np.zeros(int(diff/2)), yft, np.zeros(int(diff/2))])\n",
    "    \n",
    "    # Find the index range that covers the frequency window\n",
    "    temp = np.where(f >= 0)\n",
    "    start_idx = temp[0][0]\n",
    "    temp = np.where(f >= 25000) # <-----You can reduce this 20000 to zoom into a smaller frequency range\n",
    "    if (len(temp[0]) > 0):\n",
    "        end_idx = temp[0][0]\n",
    "    else:\n",
    "        end_idx = len(f)\n",
    "\n",
    "    # Plot\n",
    "    plt.xlabel(\"Frequency (Hz)\")\n",
    "    plt.plot(f[start_idx:end_idx], yft[start_idx:end_idx])"
   ]
  },
  {
   "cell_type": "markdown",
   "id": "b5725a39",
   "metadata": {},
   "source": [
    "Let's now use the plot_freq function to observe the original audio signal in frequency domain."
   ]
  },
  {
   "cell_type": "code",
   "execution_count": null,
   "id": "5e0e5413",
   "metadata": {},
   "outputs": [],
   "source": [
    "# Objective: Plot the original audio signal in frequency domain\n",
    "\n",
    "plot_freq(audio_array, audio_fs)"
   ]
  },
  {
   "cell_type": "markdown",
   "id": "a3106e0c",
   "metadata": {},
   "source": [
    "Next, we observe the resampled audio signal in frequency domain by plotting the power spectrum plot."
   ]
  },
  {
   "cell_type": "code",
   "execution_count": null,
   "id": "716f700c",
   "metadata": {},
   "outputs": [],
   "source": [
    "# Objective: Plot the resampled audio signal in frequency domain\n",
    "\n",
    "plot_freq(audio_resampled_array, new_audio_fs)"
   ]
  },
  {
   "cell_type": "markdown",
   "id": "7ff322ea",
   "metadata": {},
   "source": [
    "## Questions"
   ]
  },
  {
   "cell_type": "markdown",
   "id": "04f6b995",
   "metadata": {},
   "source": [
    "**Question 1**: Try to resample the audio signal at different frequencies, then run the plot_freq function to see how the power spectrum plot has changed. An example with 22.5 kHz is provided below. Try 5 more different resampling frequencies, and for each resampling frequency, record the highest frequency on the plot with a non-zero magnitude. What relationship can you see between the resampling frequency and the highest observable frequency? "
   ]
  },
  {
   "cell_type": "code",
   "execution_count": null,
   "id": "f310405f",
   "metadata": {},
   "outputs": [],
   "source": [
    "new_audio_fs = 22050\n",
    "number_of_samples = round(len(audio_array) * (new_audio_fs/audio_fs))\n",
    "audio_resampled_array, audio_t_resampled = sig.resample(audio_array, number_of_samples, t=audio_t)\n",
    "plot_freq(audio_resampled_array, new_audio_fs)"
   ]
  },
  {
   "cell_type": "code",
   "execution_count": null,
   "id": "b902be28",
   "metadata": {},
   "outputs": [],
   "source": [
    "# your answer here"
   ]
  },
  {
   "cell_type": "code",
   "execution_count": null,
   "id": "9a033c19",
   "metadata": {},
   "outputs": [],
   "source": [
    "# your answer here"
   ]
  },
  {
   "cell_type": "code",
   "execution_count": null,
   "id": "5766678c",
   "metadata": {},
   "outputs": [],
   "source": [
    "# your answer here"
   ]
  },
  {
   "cell_type": "code",
   "execution_count": null,
   "id": "7dbe2f58",
   "metadata": {},
   "outputs": [],
   "source": [
    "# your answer here"
   ]
  },
  {
   "cell_type": "code",
   "execution_count": null,
   "id": "dce3dbea",
   "metadata": {},
   "outputs": [],
   "source": [
    "# your answer here"
   ]
  },
  {
   "cell_type": "markdown",
   "id": "fa012f46",
   "metadata": {},
   "source": [
    "\\<Your answer here\\>"
   ]
  },
  {
   "cell_type": "markdown",
   "id": "2f494913",
   "metadata": {},
   "source": [
    "# You have reached the end of this notebook!"
   ]
  }
 ],
 "metadata": {
  "kernelspec": {
   "display_name": "Python 3 (ipykernel)",
   "language": "python",
   "name": "python3"
  },
  "language_info": {
   "codemirror_mode": {
    "name": "ipython",
    "version": 3
   },
   "file_extension": ".py",
   "mimetype": "text/x-python",
   "name": "python",
   "nbconvert_exporter": "python",
   "pygments_lexer": "ipython3",
   "version": "3.9.7"
  }
 },
 "nbformat": 4,
 "nbformat_minor": 5
}
